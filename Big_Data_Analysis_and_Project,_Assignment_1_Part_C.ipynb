{
  "nbformat": 4,
  "nbformat_minor": 0,
  "metadata": {
    "colab": {
      "provenance": [],
      "machine_shape": "hm"
    },
    "kernelspec": {
      "name": "python3",
      "display_name": "Python 3"
    },
    "language_info": {
      "name": "python"
    },
    "widgets": {
      "application/vnd.jupyter.widget-state+json": {
        "bf53700bb2f0449ba71ac019e4fbe0d9": {
          "model_module": "@jupyter-widgets/controls",
          "model_name": "HBoxModel",
          "model_module_version": "1.5.0",
          "state": {
            "_dom_classes": [],
            "_model_module": "@jupyter-widgets/controls",
            "_model_module_version": "1.5.0",
            "_model_name": "HBoxModel",
            "_view_count": null,
            "_view_module": "@jupyter-widgets/controls",
            "_view_module_version": "1.5.0",
            "_view_name": "HBoxView",
            "box_style": "",
            "children": [
              "IPY_MODEL_3363c88f0d654c18a69e2c11965b20c9",
              "IPY_MODEL_4cb178c7dec9449c83aa5d2f9c54348b",
              "IPY_MODEL_02f68c73caf84f469737803ada8d3767"
            ],
            "layout": "IPY_MODEL_bae89192688d417a93a9e9691f806355"
          }
        },
        "3363c88f0d654c18a69e2c11965b20c9": {
          "model_module": "@jupyter-widgets/controls",
          "model_name": "HTMLModel",
          "model_module_version": "1.5.0",
          "state": {
            "_dom_classes": [],
            "_model_module": "@jupyter-widgets/controls",
            "_model_module_version": "1.5.0",
            "_model_name": "HTMLModel",
            "_view_count": null,
            "_view_module": "@jupyter-widgets/controls",
            "_view_module_version": "1.5.0",
            "_view_name": "HTMLView",
            "description": "",
            "description_tooltip": null,
            "layout": "IPY_MODEL_4ca28d39a1d64e76b84d2c04ae82da19",
            "placeholder": "​",
            "style": "IPY_MODEL_d649e63ce3f6458596c733599b517618",
            "value": "100%"
          }
        },
        "4cb178c7dec9449c83aa5d2f9c54348b": {
          "model_module": "@jupyter-widgets/controls",
          "model_name": "FloatProgressModel",
          "model_module_version": "1.5.0",
          "state": {
            "_dom_classes": [],
            "_model_module": "@jupyter-widgets/controls",
            "_model_module_version": "1.5.0",
            "_model_name": "FloatProgressModel",
            "_view_count": null,
            "_view_module": "@jupyter-widgets/controls",
            "_view_module_version": "1.5.0",
            "_view_name": "ProgressView",
            "bar_style": "success",
            "description": "",
            "description_tooltip": null,
            "layout": "IPY_MODEL_d33bcb20089b44a7bd1bebc960ac9f1f",
            "max": 7,
            "min": 0,
            "orientation": "horizontal",
            "style": "IPY_MODEL_19c7a615b5c8481288b7c14a12fbc804",
            "value": 7
          }
        },
        "02f68c73caf84f469737803ada8d3767": {
          "model_module": "@jupyter-widgets/controls",
          "model_name": "HTMLModel",
          "model_module_version": "1.5.0",
          "state": {
            "_dom_classes": [],
            "_model_module": "@jupyter-widgets/controls",
            "_model_module_version": "1.5.0",
            "_model_name": "HTMLModel",
            "_view_count": null,
            "_view_module": "@jupyter-widgets/controls",
            "_view_module_version": "1.5.0",
            "_view_name": "HTMLView",
            "description": "",
            "description_tooltip": null,
            "layout": "IPY_MODEL_8d9bb2cc90b64f90a36feb7a08da496c",
            "placeholder": "​",
            "style": "IPY_MODEL_3f30946b63a343b6bef8b8e00d80279e",
            "value": " 7/7 [17:10&lt;00:00, 205.01s/it]"
          }
        },
        "bae89192688d417a93a9e9691f806355": {
          "model_module": "@jupyter-widgets/base",
          "model_name": "LayoutModel",
          "model_module_version": "1.2.0",
          "state": {
            "_model_module": "@jupyter-widgets/base",
            "_model_module_version": "1.2.0",
            "_model_name": "LayoutModel",
            "_view_count": null,
            "_view_module": "@jupyter-widgets/base",
            "_view_module_version": "1.2.0",
            "_view_name": "LayoutView",
            "align_content": null,
            "align_items": null,
            "align_self": null,
            "border": null,
            "bottom": null,
            "display": null,
            "flex": null,
            "flex_flow": null,
            "grid_area": null,
            "grid_auto_columns": null,
            "grid_auto_flow": null,
            "grid_auto_rows": null,
            "grid_column": null,
            "grid_gap": null,
            "grid_row": null,
            "grid_template_areas": null,
            "grid_template_columns": null,
            "grid_template_rows": null,
            "height": null,
            "justify_content": null,
            "justify_items": null,
            "left": null,
            "margin": null,
            "max_height": null,
            "max_width": null,
            "min_height": null,
            "min_width": null,
            "object_fit": null,
            "object_position": null,
            "order": null,
            "overflow": null,
            "overflow_x": null,
            "overflow_y": null,
            "padding": null,
            "right": null,
            "top": null,
            "visibility": null,
            "width": null
          }
        },
        "4ca28d39a1d64e76b84d2c04ae82da19": {
          "model_module": "@jupyter-widgets/base",
          "model_name": "LayoutModel",
          "model_module_version": "1.2.0",
          "state": {
            "_model_module": "@jupyter-widgets/base",
            "_model_module_version": "1.2.0",
            "_model_name": "LayoutModel",
            "_view_count": null,
            "_view_module": "@jupyter-widgets/base",
            "_view_module_version": "1.2.0",
            "_view_name": "LayoutView",
            "align_content": null,
            "align_items": null,
            "align_self": null,
            "border": null,
            "bottom": null,
            "display": null,
            "flex": null,
            "flex_flow": null,
            "grid_area": null,
            "grid_auto_columns": null,
            "grid_auto_flow": null,
            "grid_auto_rows": null,
            "grid_column": null,
            "grid_gap": null,
            "grid_row": null,
            "grid_template_areas": null,
            "grid_template_columns": null,
            "grid_template_rows": null,
            "height": null,
            "justify_content": null,
            "justify_items": null,
            "left": null,
            "margin": null,
            "max_height": null,
            "max_width": null,
            "min_height": null,
            "min_width": null,
            "object_fit": null,
            "object_position": null,
            "order": null,
            "overflow": null,
            "overflow_x": null,
            "overflow_y": null,
            "padding": null,
            "right": null,
            "top": null,
            "visibility": null,
            "width": null
          }
        },
        "d649e63ce3f6458596c733599b517618": {
          "model_module": "@jupyter-widgets/controls",
          "model_name": "DescriptionStyleModel",
          "model_module_version": "1.5.0",
          "state": {
            "_model_module": "@jupyter-widgets/controls",
            "_model_module_version": "1.5.0",
            "_model_name": "DescriptionStyleModel",
            "_view_count": null,
            "_view_module": "@jupyter-widgets/base",
            "_view_module_version": "1.2.0",
            "_view_name": "StyleView",
            "description_width": ""
          }
        },
        "d33bcb20089b44a7bd1bebc960ac9f1f": {
          "model_module": "@jupyter-widgets/base",
          "model_name": "LayoutModel",
          "model_module_version": "1.2.0",
          "state": {
            "_model_module": "@jupyter-widgets/base",
            "_model_module_version": "1.2.0",
            "_model_name": "LayoutModel",
            "_view_count": null,
            "_view_module": "@jupyter-widgets/base",
            "_view_module_version": "1.2.0",
            "_view_name": "LayoutView",
            "align_content": null,
            "align_items": null,
            "align_self": null,
            "border": null,
            "bottom": null,
            "display": null,
            "flex": null,
            "flex_flow": null,
            "grid_area": null,
            "grid_auto_columns": null,
            "grid_auto_flow": null,
            "grid_auto_rows": null,
            "grid_column": null,
            "grid_gap": null,
            "grid_row": null,
            "grid_template_areas": null,
            "grid_template_columns": null,
            "grid_template_rows": null,
            "height": null,
            "justify_content": null,
            "justify_items": null,
            "left": null,
            "margin": null,
            "max_height": null,
            "max_width": null,
            "min_height": null,
            "min_width": null,
            "object_fit": null,
            "object_position": null,
            "order": null,
            "overflow": null,
            "overflow_x": null,
            "overflow_y": null,
            "padding": null,
            "right": null,
            "top": null,
            "visibility": null,
            "width": null
          }
        },
        "19c7a615b5c8481288b7c14a12fbc804": {
          "model_module": "@jupyter-widgets/controls",
          "model_name": "ProgressStyleModel",
          "model_module_version": "1.5.0",
          "state": {
            "_model_module": "@jupyter-widgets/controls",
            "_model_module_version": "1.5.0",
            "_model_name": "ProgressStyleModel",
            "_view_count": null,
            "_view_module": "@jupyter-widgets/base",
            "_view_module_version": "1.2.0",
            "_view_name": "StyleView",
            "bar_color": null,
            "description_width": ""
          }
        },
        "8d9bb2cc90b64f90a36feb7a08da496c": {
          "model_module": "@jupyter-widgets/base",
          "model_name": "LayoutModel",
          "model_module_version": "1.2.0",
          "state": {
            "_model_module": "@jupyter-widgets/base",
            "_model_module_version": "1.2.0",
            "_model_name": "LayoutModel",
            "_view_count": null,
            "_view_module": "@jupyter-widgets/base",
            "_view_module_version": "1.2.0",
            "_view_name": "LayoutView",
            "align_content": null,
            "align_items": null,
            "align_self": null,
            "border": null,
            "bottom": null,
            "display": null,
            "flex": null,
            "flex_flow": null,
            "grid_area": null,
            "grid_auto_columns": null,
            "grid_auto_flow": null,
            "grid_auto_rows": null,
            "grid_column": null,
            "grid_gap": null,
            "grid_row": null,
            "grid_template_areas": null,
            "grid_template_columns": null,
            "grid_template_rows": null,
            "height": null,
            "justify_content": null,
            "justify_items": null,
            "left": null,
            "margin": null,
            "max_height": null,
            "max_width": null,
            "min_height": null,
            "min_width": null,
            "object_fit": null,
            "object_position": null,
            "order": null,
            "overflow": null,
            "overflow_x": null,
            "overflow_y": null,
            "padding": null,
            "right": null,
            "top": null,
            "visibility": null,
            "width": null
          }
        },
        "3f30946b63a343b6bef8b8e00d80279e": {
          "model_module": "@jupyter-widgets/controls",
          "model_name": "DescriptionStyleModel",
          "model_module_version": "1.5.0",
          "state": {
            "_model_module": "@jupyter-widgets/controls",
            "_model_module_version": "1.5.0",
            "_model_name": "DescriptionStyleModel",
            "_view_count": null,
            "_view_module": "@jupyter-widgets/base",
            "_view_module_version": "1.2.0",
            "_view_name": "StyleView",
            "description_width": ""
          }
        }
      }
    }
  },
  "cells": [
    {
      "cell_type": "code",
      "execution_count": null,
      "metadata": {
        "colab": {
          "base_uri": "https://localhost:8080/"
        },
        "id": "vCDYu_a9i59h",
        "outputId": "51312df2-798b-44d3-97e6-4f830aa163be"
      },
      "outputs": [
        {
          "output_type": "stream",
          "name": "stdout",
          "text": [
            "Mounted at /content/drive\n"
          ]
        }
      ],
      "source": [
        "from google.colab import drive\n",
        "drive.mount('/content/drive')"
      ]
    },
    {
      "cell_type": "code",
      "source": [
        "# 0. Imports\n",
        "import pandas as pd\n",
        "import numpy as np\n",
        "from sklearn.model_selection import TimeSeriesSplit, GridSearchCV\n",
        "from sklearn.preprocessing import StandardScaler\n",
        "from sklearn.ensemble import RandomForestClassifier\n",
        "from xgboost import XGBClassifier\n",
        "from lightgbm import LGBMClassifier\n",
        "from sklearn.metrics import roc_auc_score, average_precision_score, f1_score, brier_score_loss, classification_report"
      ],
      "metadata": {
        "id": "m7wKAcwskXd7"
      },
      "execution_count": null,
      "outputs": []
    },
    {
      "cell_type": "code",
      "source": [
        "# 1. Load cleaned panel from my part B(parquet from ETL)\n",
        "df = pd.read_parquet('/content/drive/MyDrive/silo_agg/output/sa_daily_panel.parquet')\n",
        "\n",
        "def print_intro():\n",
        "    print(\"Loaded panel with\", df.shape[0], \"rows and\", df.shape[1], \"columns.\")\n",
        "print_intro()\n"
      ],
      "metadata": {
        "colab": {
          "base_uri": "https://localhost:8080/"
        },
        "id": "y04okxaykyNo",
        "outputId": "b649c224-fe50-4040-886a-326efcce2e76"
      },
      "execution_count": null,
      "outputs": [
        {
          "output_type": "stream",
          "name": "stdout",
          "text": [
            "Loaded panel with 19516 rows and 7 columns.\n"
          ]
        }
      ]
    },
    {
      "cell_type": "markdown",
      "source": [
        "Load New data:"
      ],
      "metadata": {
        "id": "8e3Z8r6Y3lle"
      }
    },
    {
      "cell_type": "code",
      "source": [
        "!pip install -q --upgrade earthengine-api geopandas shapely\n",
        "\n",
        "import ee, geopandas as gpd, pandas as pd, os, math, json\n",
        "from pathlib import Path\n",
        "\n",
        "PROJECT_ID = \"hackathonwenzewhen2meet\"\n",
        "GEOJSON_PATH = \"nrm_regions.geojson\"\n"
      ],
      "metadata": {
        "id": "lEURwdMSPoGq"
      },
      "execution_count": null,
      "outputs": []
    },
    {
      "cell_type": "code",
      "source": [
        "# AUTH + INIT\n",
        "try:\n",
        "    # I first initialize directly, which works if the credentials are cached\n",
        "    ee.Initialize(project=PROJECT_ID)\n",
        "    print(\"[OK] Initialized with cached credentials.\")\n",
        "except Exception as e:\n",
        "    print(\"[Info] Cached init failed - authenticating:\", e)\n",
        "    ee.Authenticate()\n",
        "    ee.Initialize(project=PROJECT_ID)\n",
        "    print(\"[OK] Initialized after authentication.\")\n",
        "\n",
        "# Jsut quick smoke\n",
        "print(\"Algorithms loaded:\", len(ee.data.getAlgorithms()))\n"
      ],
      "metadata": {
        "colab": {
          "base_uri": "https://localhost:8080/"
        },
        "id": "DuNnG2AJV0Bo",
        "outputId": "75bc50ad-4bf4-4a7a-d734-1ed7e3160801"
      },
      "execution_count": null,
      "outputs": [
        {
          "output_type": "stream",
          "name": "stdout",
          "text": [
            "[OK] Initialized with cached credentials.\n",
            "Algorithms loaded: 985\n"
          ]
        }
      ]
    },
    {
      "cell_type": "code",
      "source": [
        "!pip install -q geopandas shapely pyproj fiona\n",
        "import geopandas as gpd, pandas as pd, numpy as np, os, re\n",
        "from pathlib import Path\n"
      ],
      "metadata": {
        "colab": {
          "base_uri": "https://localhost:8080/"
        },
        "id": "O7Wji8JgV5KN",
        "outputId": "38ca011c-9b72-4bb8-91e1-6a029e34ff7c"
      },
      "execution_count": null,
      "outputs": [
        {
          "output_type": "stream",
          "name": "stdout",
          "text": [
            "\u001b[2K     \u001b[90m━━━━━━━━━━━━━━━━━━━━━━━━━━━━━━━━━━━━━━━━\u001b[0m \u001b[32m56.6/56.6 kB\u001b[0m \u001b[31m3.6 MB/s\u001b[0m eta \u001b[36m0:00:00\u001b[0m\n",
            "\u001b[2K   \u001b[90m━━━━━━━━━━━━━━━━━━━━━━━━━━━━━━━━━━━━━━━━\u001b[0m \u001b[32m17.3/17.3 MB\u001b[0m \u001b[31m127.0 MB/s\u001b[0m eta \u001b[36m0:00:00\u001b[0m\n",
            "\u001b[?25h"
          ]
        }
      ]
    },
    {
      "cell_type": "code",
      "source": [
        "SHP_PATH = Path(\"/content/drive/MyDrive/silo_agg/nrm_superclusters/ADMIN_NrmRegions_GDA2020.shp\")\n",
        "assert SHP_PATH.exists(), f\"Shapefile not found: {SHP_PATH}\"\n",
        "print(\"Shapefile found:\", SHP_PATH)"
      ],
      "metadata": {
        "colab": {
          "base_uri": "https://localhost:8080/"
        },
        "id": "HMEKTQaPWSh9",
        "outputId": "f1668b48-2b4b-4a90-905f-60bad4640a50"
      },
      "execution_count": null,
      "outputs": [
        {
          "output_type": "stream",
          "name": "stdout",
          "text": [
            "Shapefile found: /content/drive/MyDrive/silo_agg/nrm_superclusters/ADMIN_NrmRegions_GDA2020.shp\n"
          ]
        }
      ]
    },
    {
      "cell_type": "code",
      "source": [
        "gdf = gpd.read_file(SHP_PATH)\n",
        "print(\"CRS:\", gdf.crs)\n",
        "print(\"Columns:\", gdf.columns.tolist())\n",
        "print(gdf.head(2))"
      ],
      "metadata": {
        "colab": {
          "base_uri": "https://localhost:8080/"
        },
        "id": "FmB1THI-WXIQ",
        "outputId": "16edf98f-7f0c-446c-b321-d5631fa3e12e"
      },
      "execution_count": null,
      "outputs": [
        {
          "output_type": "stream",
          "name": "stdout",
          "text": [
            "CRS: EPSG:7844\n",
            "Columns: ['REGION_ID', 'NAME', 'OFFICE_ID', 'SHAPE_Leng', 'SHAPE_Area', 'geometry']\n",
            "   REGION_ID                         NAME  OFFICE_ID  SHAPE_Leng  SHAPE_Area  \\\n",
            "0        6.0  South Australian Arid Lands       35.0   37.976913   48.464081   \n",
            "1        2.0          Alinytjara Wilurara       12.0   28.735758   26.186283   \n",
            "\n",
            "                                            geometry  \n",
            "0  POLYGON ((141.00404 -25.99928, 141.00557 -26.8...  \n",
            "1  POLYGON ((133.83383 -29.52227, 133.83384 -29.5...  \n"
          ]
        }
      ]
    },
    {
      "cell_type": "code",
      "source": [
        "import pandas as pd\n",
        "panel = pd.read_parquet('/content/drive/MyDrive/silo_agg/output/sa_daily_panel.parquet')\n",
        "print(panel.columns)\n",
        "print(panel['region'].head() if 'region' in panel.columns else\n",
        "      panel[['nrm_id','nrm_name']].head() if {'nrm_id','nrm_name'}.issubset(panel.columns) else\n",
        "      panel.head())\n"
      ],
      "metadata": {
        "colab": {
          "base_uri": "https://localhost:8080/"
        },
        "id": "UsxpbijNWjHC",
        "outputId": "04b79b94-1bfa-42f9-ac61-39ac7fb6ccf4"
      },
      "execution_count": null,
      "outputs": [
        {
          "output_type": "stream",
          "name": "stdout",
          "text": [
            "Index(['date', 'nrm_id', 't2m_K', 'wind_ms', 'rh_pct', 'hotspot_cnt',\n",
            "       'target_next_day'],\n",
            "      dtype='object')\n",
            "        date  nrm_id       t2m_K   wind_ms     rh_pct  hotspot_cnt  \\\n",
            "0 2014-01-03       1  291.021552  6.619956  65.581457          0.0   \n",
            "1 2014-01-04       1  289.782428  5.629855  50.956166          0.0   \n",
            "2 2014-01-05       1  291.271989  8.510249  51.713904          0.0   \n",
            "3 2014-01-10       1  301.997590  2.107849  42.423605          0.0   \n",
            "4 2014-01-11       1  296.392980  2.938075  46.898584          0.0   \n",
            "\n",
            "   target_next_day  \n",
            "0              0.0  \n",
            "1              0.0  \n",
            "2              0.0  \n",
            "3              0.0  \n",
            "4              0.0  \n"
          ]
        }
      ]
    },
    {
      "cell_type": "code",
      "source": [
        "!ls -1 drive/MyDrive/silo_agg/nrm_superclusters"
      ],
      "metadata": {
        "colab": {
          "base_uri": "https://localhost:8080/"
        },
        "id": "n_y7QQV4XfAI",
        "outputId": "0eaf9c45-b7c4-4e93-f680-beae3593de26"
      },
      "execution_count": null,
      "outputs": [
        {
          "output_type": "stream",
          "name": "stdout",
          "text": [
            "ADMIN_NrmRegions_GDA2020.cpg\n",
            "ADMIN_NrmRegions_GDA2020.dbf\n",
            "ADMIN_NrmRegions_GDA2020.prj\n",
            "ADMIN_NrmRegions_GDA2020.sbn\n",
            "ADMIN_NrmRegions_GDA2020.sbx\n",
            "ADMIN_NrmRegions_GDA2020.shp\n",
            "ADMIN_NrmRegions_GDA2020.shp.xml\n",
            "ADMIN_NrmRegions_GDA2020.shx\n",
            "ADMIN_NrmRegions_GDA94.cpg\n",
            "ADMIN_NrmRegions_GDA94.dbf\n",
            "ADMIN_NrmRegions_GDA94.prj\n",
            "ADMIN_NrmRegions_GDA94.sbn\n",
            "ADMIN_NrmRegions_GDA94.sbx\n",
            "ADMIN_NrmRegions_GDA94.shp\n",
            "ADMIN_NrmRegions_GDA94.shp.xml\n",
            "ADMIN_NrmRegions_GDA94.shx\n",
            "CC_BY.txt\n",
            "nrm_sa.zip\n"
          ]
        }
      ]
    },
    {
      "cell_type": "code",
      "source": [
        "import os\n",
        "print(\"GeoJSON exists?\", os.path.exists(\"nrm_regions.geojson\"))\n",
        "!head -n 5 nrm_regions.geojson\n"
      ],
      "metadata": {
        "colab": {
          "base_uri": "https://localhost:8080/"
        },
        "id": "LS_TAe9oX0h0",
        "outputId": "4bf824c7-0eaf-4f0f-febe-9e12bcd67305"
      },
      "execution_count": null,
      "outputs": [
        {
          "output_type": "stream",
          "name": "stdout",
          "text": [
            "GeoJSON exists? True\n",
            "{\n",
            "\"type\": \"FeatureCollection\",\n",
            "\"name\": \"nrm_regions\",\n",
            "\"crs\": { \"type\": \"name\", \"properties\": { \"name\": \"urn:ogc:def:crs:OGC:1.3:CRS84\" } },\n",
            "\"features\": [\n"
          ]
        }
      ]
    },
    {
      "cell_type": "code",
      "source": [
        "import os, pandas as pd\n",
        "\n",
        "RAW_PANEL = \"/content/drive/MyDrive/silo_agg/output/sa_daily_panel.parquet\"\n",
        "assert os.path.exists(RAW_PANEL), f\"Raw panel not found: {RAW_PANEL}\"\n",
        "\n",
        "# Load raw panel\n",
        "panel = pd.read_parquet(RAW_PANEL)\n",
        "\n",
        "# Harmonisation (build required columns)\n",
        "panel['date'] = pd.to_datetime(panel['date'])\n",
        "panel = panel.sort_values(['nrm_id','date']).reset_index(drop=True)\n",
        "\n",
        "panel['region']       = panel['nrm_id'].astype(int).astype(str)\n",
        "panel['mean_temp']    = panel['t2m_K'] - 273.15\n",
        "panel['rel_humidity'] = panel['rh_pct']\n",
        "panel['wind_speed']   = panel['wind_ms']\n",
        "panel['hotspots']     = panel['hotspot_cnt'].fillna(0).astype(float)\n",
        "\n",
        "panel['hotspots_next']   = panel.groupby('region')['hotspots'].shift(-1)\n",
        "panel['target_next_day'] = (panel['hotspots_next'] >= 10).astype(int)\n",
        "panel = panel.dropna(subset=['hotspots_next'])\n",
        "\n",
        "print(\"Harmonised panel shape:\", panel.shape,\n",
        "      \"| Positive rate:\", f\"{panel['target_next_day'].mean():.2%}\")\n",
        "\n",
        "# Save to Drive\n",
        "panel.to_parquet(\"panel_harmonised.parquet\", index=False)\n",
        "panel.to_parquet(\"/content/drive/MyDrive/silo_agg/output/panel_harmonised.parquet\", index=False)\n",
        "print(\"Saved panel_harmonised.parquet to working dir and Drive.\")\n"
      ],
      "metadata": {
        "colab": {
          "base_uri": "https://localhost:8080/"
        },
        "id": "hChqK9SAYBMI",
        "outputId": "1c96521c-d79d-4fd2-ca15-3ebef5324af7"
      },
      "execution_count": null,
      "outputs": [
        {
          "output_type": "stream",
          "name": "stdout",
          "text": [
            "Harmonised panel shape: (19508, 13) | Positive rate: 1.63%\n",
            "Saved panel_harmonised.parquet to working dir and Drive.\n"
          ]
        }
      ]
    },
    {
      "cell_type": "code",
      "source": [
        "import os, shutil\n",
        "\n",
        "LOCAL_GEOJSON = \"nrm_regions.geojson\"\n",
        "DRIVE_GEOJSON_DIR = \"/content/drive/MyDrive/silo_agg/nrm_superclusters\"\n",
        "DRIVE_GEOJSON = os.path.join(DRIVE_GEOJSON_DIR, \"nrm_regions.geojson\")\n",
        "\n",
        "os.makedirs(DRIVE_GEOJSON_DIR, exist_ok=True)\n",
        "print(\"Drive target directory:\", DRIVE_GEOJSON_DIR)\n"
      ],
      "metadata": {
        "colab": {
          "base_uri": "https://localhost:8080/"
        },
        "id": "uYB2h7R_YtnE",
        "outputId": "4ee88c09-4a8a-47e1-9a3b-3f8a8080333b"
      },
      "execution_count": null,
      "outputs": [
        {
          "output_type": "stream",
          "name": "stdout",
          "text": [
            "Drive target directory: /content/drive/MyDrive/silo_agg/nrm_superclusters\n"
          ]
        }
      ]
    },
    {
      "cell_type": "code",
      "source": [
        "assert os.path.exists(LOCAL_GEOJSON), \"Local GeoJSON missing. Re-create it first.\"\n",
        "shutil.copy2(LOCAL_GEOJSON, DRIVE_GEOJSON)\n",
        "print(\"Copied to Drive:\", DRIVE_GEOJSON, \"| Size (bytes):\", os.path.getsize(DRIVE_GEOJSON))\n"
      ],
      "metadata": {
        "colab": {
          "base_uri": "https://localhost:8080/"
        },
        "id": "VVwGAH5GY-Cz",
        "outputId": "9141912a-5305-43d0-836c-7a5a621b0de9"
      },
      "execution_count": null,
      "outputs": [
        {
          "output_type": "stream",
          "name": "stdout",
          "text": [
            "Copied to Drive: /content/drive/MyDrive/silo_agg/nrm_superclusters/nrm_regions.geojson | Size (bytes): 153282\n"
          ]
        }
      ]
    },
    {
      "cell_type": "code",
      "source": [
        "import geopandas as gpd\n",
        "gdf_drive = gpd.read_file(\"/content/drive/MyDrive/silo_agg/nrm_superclusters/nrm_regions.geojson\")\n",
        "print(\"Regions:\", gdf_drive['region'].nunique(), \"| First IDs:\", gdf_drive['region'].head().tolist())\n"
      ],
      "metadata": {
        "colab": {
          "base_uri": "https://localhost:8080/"
        },
        "id": "ib8Obs1HZHwB",
        "outputId": "37ca327a-7445-44ef-98a0-1a37b5999b66"
      },
      "execution_count": null,
      "outputs": [
        {
          "output_type": "stream",
          "name": "stdout",
          "text": [
            "Regions: 8 | First IDs: ['6', '2', '7', '5', '3']\n"
          ]
        }
      ]
    },
    {
      "cell_type": "code",
      "source": [
        "import geopandas as gpd, os\n",
        "SRC = \"nrm_regions.geojson\"\n",
        "SIMPL = \"nrm_regions_simplified.geojson\"\n",
        "gdf = gpd.read_file(SRC).to_crs(4326)\n",
        "try:\n",
        "    gdf['geometry'] = gdf.geometry.simplify(0.002, preserve_topology=True)\n",
        "except Exception as e:\n",
        "    print(\"Simplify skipped:\", e)\n",
        "gdf[['region','geometry']].to_file(SIMPL, driver=\"GeoJSON\")\n",
        "print(\"Saved simplified:\", SIMPL, \"Regions:\", len(gdf))\n"
      ],
      "metadata": {
        "colab": {
          "base_uri": "https://localhost:8080/"
        },
        "id": "keqJJrO2bcXc",
        "outputId": "0be5efb7-d993-48b4-f03a-e86a97325229"
      },
      "execution_count": null,
      "outputs": [
        {
          "output_type": "stream",
          "name": "stdout",
          "text": [
            "Saved simplified: nrm_regions_simplified.geojson Regions: 8\n"
          ]
        }
      ]
    },
    {
      "cell_type": "code",
      "source": [
        "import ee\n",
        "PROJECT_ID = \"hackathonwenzewhen2meet\"\n",
        "ee.Initialize(project=PROJECT_ID)"
      ],
      "metadata": {
        "id": "lEUS0X7bbdV6"
      },
      "execution_count": null,
      "outputs": []
    },
    {
      "cell_type": "code",
      "source": [
        "import time, geopandas as gpd, ee\n",
        "\n",
        "REGIONS_GEOJSON = \"nrm_regions_simplified.geojson\"\n",
        "DATASET         = \"COPERNICUS/S2_SR_HARMONIZED\"\n",
        "START_YEAR, END_YEAR = 2014, 2024\n",
        "WINDOW_DAYS     = 5\n",
        "CLOUD_PCT       = 70\n",
        "SCALE           = 20\n",
        "TILESCALE       = 8\n",
        "FOLDER          = \"silo_agg_output\"\n",
        "\n",
        "gdf_all = gpd.read_file(REGIONS_GEOJSON).to_crs(4326)\n",
        "\n",
        "def gdf_to_fc(gdf_):\n",
        "    feats = [ee.Feature(ee.Geometry(r.geometry.__geo_interface__), {'region': r['region']})\n",
        "             for _, r in gdf_.iterrows()]\n",
        "    return ee.FeatureCollection(feats)\n",
        "\n",
        "fc_regions = gdf_to_fc(gdf_all)\n",
        "\n",
        "# Based on the characteristics of my Part C, I only use the scene classification layer for masking.\n",
        "# Retain: vegetation (4), bare soil (5), water (6)\n",
        "# Exclude: cloud shadows (3), clouds (8, 9, 10), snow/ice (11), no data (0), defects (1)\n",
        "def mask_scl(img):\n",
        "    scl = img.select('SCL')\n",
        "    good = scl.eq(4).Or(scl.eq(5)).Or(scl.eq(6))\n",
        "    return img.updateMask(good).select(['B4','B8'])\n",
        "\n",
        "def s2_year(year):\n",
        "    start, end = f\"{year}-01-01\", f\"{year}-12-31\"\n",
        "    base = (ee.ImageCollection(DATASET)\n",
        "              .filterDate(start, end)\n",
        "              .filter(ee.Filter.lt('CLOUDY_PIXEL_PERCENTAGE', CLOUD_PCT))\n",
        "              .select(['B4','B8','SCL'])\n",
        "              .map(mask_scl)\n",
        "              .map(lambda im: im.addBands(\n",
        "                  im.normalizedDifference(['B8','B4']).rename('NDVI')\n",
        "              )))\n",
        "    return base\n",
        "\n",
        "def daily_ic(year):\n",
        "    base = s2_year(year)\n",
        "    start = ee.Date(f\"{year}-01-01\")\n",
        "    end   = ee.Date(f\"{year}-12-31\")\n",
        "    ndays = end.difference(start,'day').add(1)\n",
        "    offs  = ee.List.sequence(0, ndays.subtract(1))\n",
        "\n",
        "    def make_day(o):\n",
        "        d0  = start.advance(o,'day')\n",
        "        d_start = d0.advance(-(WINDOW_DAYS-1), 'day')\n",
        "        subset = base.filterDate(d_start, d0.advance(1,'day'))\n",
        "        size = subset.size()\n",
        "        def nonempty():\n",
        "            return subset.median().select('NDVI')\n",
        "        def empty():\n",
        "            return ee.Image.constant(ee.Number(-9999)).rename('NDVI').updateMask(ee.Image.constant(0))\n",
        "        img = ee.Image(ee.Algorithms.If(size.gt(0), nonempty(), empty()))\n",
        "        return img.set('date', d0.format('yyyy-MM-dd'))\n",
        "    return ee.ImageCollection(offs.map(make_day))\n",
        "\n",
        "def export_year(year):\n",
        "    ic = daily_ic(year)\n",
        "    def reduce_day(img):\n",
        "        return img.reduceRegions(fc_regions,\n",
        "                                 ee.Reducer.mean(),\n",
        "                                 scale=SCALE,\n",
        "                                 tileScale=TILESCALE)\\\n",
        "                  .map(lambda f: f.set('date', img.get('date')))\n",
        "    fc = ic.map(reduce_day).flatten()\n",
        "    desc = f\"S2_NDVI_5d_{year}\"\n",
        "    task = ee.batch.Export.table.toDrive(\n",
        "        collection=fc,\n",
        "        description=desc,\n",
        "        folder=FOLDER,\n",
        "        fileNamePrefix=desc,\n",
        "        fileFormat='CSV'\n",
        "    )\n",
        "    task.start()\n",
        "    print(\"Submitted:\", desc)\n",
        "\n",
        "for y in range(START_YEAR, END_YEAR+1):\n",
        "    export_year(y)\n",
        "    time.sleep(5)\n",
        "\n",
        "print(\"All re-submitted with robust script.\")\n"
      ],
      "metadata": {
        "colab": {
          "base_uri": "https://localhost:8080/"
        },
        "id": "151nZ188bh1a",
        "outputId": "c244ea85-0863-477d-8005-2161320081f1"
      },
      "execution_count": null,
      "outputs": [
        {
          "output_type": "stream",
          "name": "stdout",
          "text": [
            "Submitted: S2_NDVI_5d_2014\n",
            "Submitted: S2_NDVI_5d_2015\n",
            "Submitted: S2_NDVI_5d_2016\n",
            "Submitted: S2_NDVI_5d_2017\n",
            "Submitted: S2_NDVI_5d_2018\n",
            "Submitted: S2_NDVI_5d_2019\n",
            "Submitted: S2_NDVI_5d_2020\n",
            "Submitted: S2_NDVI_5d_2021\n",
            "Submitted: S2_NDVI_5d_2022\n",
            "Submitted: S2_NDVI_5d_2023\n",
            "Submitted: S2_NDVI_5d_2024\n",
            "All re-submitted with robust script.\n"
          ]
        }
      ]
    },
    {
      "cell_type": "code",
      "source": [
        "import ee, geopandas as gpd, pandas as pd, time, os\n",
        "ee.Initialize(project=\"hackathonwenzewhen2meet\")\n",
        "\n",
        "GEOJSON = \"nrm_regions_simplified.geojson\" if os.path.exists(\"nrm_regions_simplified.geojson\") else \"nrm_regions.geojson\"\n",
        "gdf = gpd.read_file(GEOJSON).to_crs(4326)\n",
        "fc  = ee.FeatureCollection([\n",
        "    ee.Feature(ee.Geometry(r.geometry.__geo_interface__), {'region': r['region']})\n",
        "    for _, r in gdf.iterrows()\n",
        "])\n",
        "\n",
        "def mask_and_scale(im):\n",
        "    ndvi_raw = im.select('NDVI')\n",
        "    valid    = ndvi_raw.gt(-2000)                     # keep > -2000\n",
        "    ndvi_sc  = ndvi_raw.updateMask(valid).multiply(0.0001).rename('NDVI')\n",
        "    return ndvi_sc.copyProperties(im, ['system:time_start'])\n",
        "\n",
        "MODIS = (ee.ImageCollection(\"MODIS/061/MOD13Q1\")\n",
        "           .filterDate('2014-01-01', '2024-12-31')\n",
        "           .map(mask_and_scale))\n",
        "\n",
        "img_list = MODIS.toList(MODIS.size())\n",
        "n = img_list.size().getInfo()\n",
        "print(\"Total composites after masking:\", n)\n",
        "\n",
        "rows=[]\n",
        "for i in range(n):\n",
        "    img = ee.Image(img_list.get(i))\n",
        "    ts  = img.get('system:time_start').getInfo()\n",
        "    if ts is None:\n",
        "        continue\n",
        "    date_str = pd.to_datetime(ts, unit='ms').strftime('%Y-%m-%d')\n",
        "    feats = img.reduceRegions(fc, ee.Reducer.mean(), scale=250).getInfo()['features']\n",
        "    for f in feats:\n",
        "        val = f['properties']['mean']\n",
        "        if val is not None:\n",
        "            rows.append((f['properties']['region'], date_str, val))\n",
        "    if (i+1) % 50 == 0:\n",
        "        print(f\"Processed {i+1}/{n}\")\n",
        "    time.sleep(0.2)\n",
        "\n",
        "df = pd.DataFrame(rows, columns=['region','date','ndvi_16d'])\n",
        "df['date'] = pd.to_datetime(df['date'])\n",
        "out_csv = \"/content/drive/MyDrive/silo_agg_output/MODIS_MOD13Q1_NDVI_2014_2024.csv\"\n",
        "os.makedirs(os.path.dirname(out_csv), exist_ok=True)\n",
        "df.to_csv(out_csv, index=False)\n",
        "print(\"Saved CSV - shape:\", df.shape)\n"
      ],
      "metadata": {
        "colab": {
          "base_uri": "https://localhost:8080/"
        },
        "id": "2sX5UbUXbozE",
        "outputId": "48857c17-e8b9-4ed5-c1c7-03f3ae858f0c"
      },
      "execution_count": null,
      "outputs": [
        {
          "output_type": "stream",
          "name": "stdout",
          "text": [
            "Total composites after masking: 253\n",
            "Processed 50/253\n",
            "Processed 100/253\n",
            "Processed 150/253\n",
            "Processed 200/253\n",
            "Processed 250/253\n",
            "Saved CSV - shape: (2024, 3)\n"
          ]
        }
      ]
    },
    {
      "cell_type": "code",
      "source": [
        "import pandas as pd, numpy as np, os\n",
        "\n",
        "csv_path = \"/content/drive/MyDrive/silo_agg_output/MODIS_MOD13Q1_NDVI_2014_2024.csv\"\n",
        "mod = pd.read_csv(csv_path)\n",
        "mod['date'] = pd.to_datetime(mod['date'])\n",
        "mod = mod.sort_values(['region','date']).rename(columns={'ndvi_16d':'ndvi_16d'})\n",
        "\n",
        "daily = []\n",
        "for region, grp in mod.groupby('region', sort=False):\n",
        "    grp = grp.set_index('date')\n",
        "    idx = pd.date_range(grp.index.min(), grp.index.max(), freq='D')\n",
        "    full = grp.reindex(idx)\n",
        "    full['region'] = region\n",
        "    full['ndvi'] = full['ndvi_16d'].interpolate(limit_direction='both')\n",
        "    daily.append(full.reset_index().rename(columns={'index':'date'}))\n",
        "\n",
        "daily = pd.concat(daily, ignore_index=True)\n",
        "print(\"Daily NDVI:\", daily.shape)\n",
        "daily.to_csv(\"/content/drive/MyDrive/silo_agg_output/MODIS_NDVI_daily_interp.csv\", index=False)\n"
      ],
      "metadata": {
        "colab": {
          "base_uri": "https://localhost:8080/"
        },
        "id": "IX9MrCsQxjek",
        "outputId": "c9f9dfbe-ef5c-47da-8408-6072576c5211"
      },
      "execution_count": null,
      "outputs": [
        {
          "output_type": "stream",
          "name": "stdout",
          "text": [
            "Daily NDVI: (32040, 4)\n"
          ]
        }
      ]
    },
    {
      "cell_type": "code",
      "source": [
        "import pandas as pd, os\n",
        "\n",
        "# paths\n",
        "panel_raw = \"/content/drive/MyDrive/silo_agg/output/panel_harmonised.parquet\"\n",
        "ndvi_daily = \"/content/drive/MyDrive/silo_agg_output/MODIS_NDVI_daily_interp.csv\"\n",
        "\n",
        "panel = pd.read_parquet(panel_raw)\n",
        "panel['date'] = pd.to_datetime(panel['date'])\n",
        "\n",
        "ndvi = pd.read_csv(ndvi_daily, parse_dates=['date'])\n",
        "panel['region'] = panel['region'].astype(str)\n",
        "ndvi['region']  = ndvi['region'].astype(str)\n",
        "\n",
        "panel = panel.merge(ndvi[['region','date','ndvi']], on=['region','date'], how='left')\n",
        "\n",
        "# The local median value, then global fallback\n",
        "panel['ndvi'] = panel.groupby('region')['ndvi'].transform(lambda s: s.fillna(s.median()))\n",
        "panel['ndvi'] = panel['ndvi'].fillna(panel['ndvi'].median())\n",
        "\n",
        "out_panel_ndvi = \"/content/drive/MyDrive/silo_agg/output/panel_with_ndvi.parquet\"\n",
        "panel.to_parquet(out_panel_ndvi, index=False)\n",
        "print(\"Panel + NDVI:\", panel.shape)\n"
      ],
      "metadata": {
        "colab": {
          "base_uri": "https://localhost:8080/"
        },
        "id": "3atDtrU6xoXC",
        "outputId": "fc155729-ad67-4170-8bc3-4178dcd15486"
      },
      "execution_count": null,
      "outputs": [
        {
          "output_type": "stream",
          "name": "stdout",
          "text": [
            "Panel + NDVI: (19508, 14)\n"
          ]
        }
      ]
    },
    {
      "cell_type": "markdown",
      "source": [
        "Feature Engineering:"
      ],
      "metadata": {
        "id": "5unVl3o-z3Dz"
      }
    },
    {
      "cell_type": "code",
      "source": [
        "import pandas as pd, geopandas as gpd, numpy as np, os, pathlib"
      ],
      "metadata": {
        "id": "ON4EvIqMz4Tw"
      },
      "execution_count": null,
      "outputs": []
    },
    {
      "cell_type": "code",
      "source": [
        "# SA filter + Feature Engineering\n",
        "import pandas as pd, geopandas as gpd, numpy as np, os\n",
        "\n",
        "PANEL_IN  = \"/content/drive/MyDrive/silo_agg/output/panel_with_ndvi.parquet\"\n",
        "GEOJSON   = \"/content/drive/MyDrive/silo_agg/nrm_superclusters/nrm_regions.geojson\"\n",
        "PANEL_OUT = \"/content/drive/MyDrive/silo_agg/output/panel_features_SA.parquet\""
      ],
      "metadata": {
        "id": "R3rIA6kvz9E7"
      },
      "execution_count": null,
      "outputs": []
    },
    {
      "cell_type": "code",
      "source": [
        "panel = pd.read_parquet(PANEL_IN)\n",
        "panel['region'] = panel['region'].astype(str)\n",
        "panel['date']   = pd.to_datetime(panel['date'])\n",
        "\n",
        "gdf = gpd.read_file(GEOJSON).to_crs(4326)\n",
        "allowed = gdf['region'].astype(str).unique().tolist()\n",
        "\n",
        "before = len(panel)\n",
        "panel  = panel[panel['region'].isin(allowed)].copy()\n",
        "print(f\"Kept SA rows: {len(panel)} / {before}\")\n",
        "\n",
        "panel = panel.sort_values(['region','date']).reset_index(drop=True)"
      ],
      "metadata": {
        "colab": {
          "base_uri": "https://localhost:8080/"
        },
        "id": "YheGk4A20A0r",
        "outputId": "f56d7345-485d-4c47-caa7-0566a694098e"
      },
      "execution_count": null,
      "outputs": [
        {
          "output_type": "stream",
          "name": "stdout",
          "text": [
            "Kept SA rows: 19508 / 19508\n"
          ]
        }
      ]
    },
    {
      "cell_type": "code",
      "source": [
        "# VPD\n",
        "es = 0.6108 * np.exp((17.27 * panel['mean_temp']) / (panel['mean_temp'] + 237.3))\n",
        "panel['VPD'] = es * (1 - panel['rel_humidity'] / 100.0)"
      ],
      "metadata": {
        "id": "KnAUxzVC6ACm"
      },
      "execution_count": null,
      "outputs": []
    },
    {
      "cell_type": "code",
      "source": [
        "#DTR\n",
        "if {'temp_max','temp_min'}.issubset(panel.columns):\n",
        "    pass\n",
        "else:\n",
        "    panel['temp_max'] = panel.groupby('region')['mean_temp'].transform(lambda s: s.rolling(3,1).max())\n",
        "    panel['temp_min'] = panel.groupby('region')['mean_temp'].transform(lambda s: s.rolling(3,1).min())\n",
        "panel['DTR'] = panel['temp_max'] - panel['temp_min']"
      ],
      "metadata": {
        "id": "iFfsc1x16BKy"
      },
      "execution_count": null,
      "outputs": []
    },
    {
      "cell_type": "code",
      "source": [
        "# API\n",
        "alpha = 0.8\n",
        "if 'precip' not in panel.columns:\n",
        "    panel['precip'] = 0.0\n",
        "api=[]\n",
        "for _, g in panel.groupby('region', sort=False):\n",
        "    a=0.0\n",
        "    for p in g['precip']: a = alpha*a + p; api.append(a)\n",
        "panel['API'] = api"
      ],
      "metadata": {
        "id": "LCHbFRR56ENf"
      },
      "execution_count": null,
      "outputs": []
    },
    {
      "cell_type": "code",
      "source": [
        "# DF proxy if missing\n",
        "if 'DF' not in panel.columns or panel['DF'].isna().all():\n",
        "    rnk = panel.groupby('region')['API'].rank(pct=True)\n",
        "    panel['DF'] = 2 + 8*(1 - rnk)"
      ],
      "metadata": {
        "id": "c3TTncGo6G61"
      },
      "execution_count": null,
      "outputs": []
    },
    {
      "cell_type": "code",
      "source": [
        "# FFDI\n",
        "wind_kmh = panel['wind_speed'] * 3.6\n",
        "panel['FFDI'] = 2 * np.exp(\n",
        "    -0.45\n",
        "    + 0.987 * np.log(panel['DF'].clip(lower=0.1))\n",
        "    + 0.0338 * panel['mean_temp']\n",
        "    - 0.0345 * panel['rel_humidity']\n",
        "    + 0.0234 * wind_kmh\n",
        ")"
      ],
      "metadata": {
        "id": "-Qa4KnM86JsQ"
      },
      "execution_count": null,
      "outputs": []
    },
    {
      "cell_type": "code",
      "source": [
        "# Interactions\n",
        "panel['VPDxDTR']  = panel['VPD'] * panel['DTR']\n",
        "panel['VPDxNDVI'] = panel['VPD'] * panel['ndvi']\n",
        "\n",
        "panel.to_parquet(PANEL_OUT, index=False)\n",
        "print(\"Feature panel saved:\", PANEL_OUT, \"| shape:\", panel.shape)"
      ],
      "metadata": {
        "colab": {
          "base_uri": "https://localhost:8080/"
        },
        "id": "qeu68_hs6UE4",
        "outputId": "11c3787c-3484-482a-f483-ea02df7d4f79"
      },
      "execution_count": null,
      "outputs": [
        {
          "output_type": "stream",
          "name": "stdout",
          "text": [
            "Feature panel saved: /content/drive/MyDrive/silo_agg/output/panel_features_SA.parquet | shape: (19508, 24)\n"
          ]
        }
      ]
    },
    {
      "cell_type": "code",
      "source": [
        "df = pd.read_parquet(\"/content/drive/MyDrive/silo_agg/output/panel_features_SA.parquet\")\n"
      ],
      "metadata": {
        "id": "svxsV4xr6bIu"
      },
      "execution_count": null,
      "outputs": []
    },
    {
      "cell_type": "markdown",
      "source": [
        "Model:"
      ],
      "metadata": {
        "id": "EjQNvhZq6i6J"
      }
    },
    {
      "cell_type": "code",
      "source": [
        "import warnings, os, numpy as np, pandas as pd, matplotlib.pyplot as plt, seaborn as sns\n",
        "warnings.filterwarnings(\"ignore\")\n",
        "sns.set_style(\"whitegrid\")\n",
        "\n",
        "from sklearn.model_selection     import TimeSeriesSplit, GridSearchCV\n",
        "from sklearn.preprocessing       import StandardScaler\n",
        "from sklearn.pipeline            import Pipeline\n",
        "from sklearn.impute              import SimpleImputer\n",
        "from sklearn.metrics      import (precision_recall_curve, roc_auc_score,\n",
        "                                  average_precision_score,\n",
        "                                  precision_recall_fscore_support,\n",
        "                                  confusion_matrix, ConfusionMatrixDisplay,\n",
        "                                  RocCurveDisplay)\n",
        "from sklearn.calibration  import calibration_curve\n",
        "from sklearn.linear_model        import LogisticRegression\n",
        "from sklearn.ensemble            import (RandomForestClassifier,\n",
        "                                         ExtraTreesClassifier,\n",
        "                                         GradientBoostingClassifier,\n",
        "                                         HistGradientBoostingClassifier)\n",
        "from xgboost                     import XGBClassifier\n",
        "from lightgbm                    import LGBMClassifier\n",
        "\n",
        "from imblearn.over_sampling      import SMOTE\n",
        "from imblearn.pipeline           import Pipeline as ImbPipeline\n",
        "\n",
        "import shap, joblib\n",
        "from tqdm.auto import tqdm\n",
        "from imblearn.over_sampling import SMOTE"
      ],
      "metadata": {
        "id": "E7IAwJq4ToDL"
      },
      "execution_count": null,
      "outputs": []
    },
    {
      "cell_type": "code",
      "source": [
        "from sklearn.model_selection import TimeSeriesSplit\n",
        "from sklearn.preprocessing  import StandardScaler\n",
        "from sklearn.impute         import SimpleImputer\n",
        "\n",
        "PANEL_FE = \"/content/drive/MyDrive/silo_agg/output/panel_features_SA.parquet\"\n",
        "df       = pd.read_parquet(PANEL_FE)\n",
        "\n",
        "feature_cols = ['mean_temp','wind_speed','rel_humidity','VPD','DTR','API',\n",
        "                'ndvi','FFDI','VPDxDTR','VPDxNDVI']\n",
        "X_raw = df[feature_cols].to_numpy(dtype=float)\n",
        "y     = df['target_next_day'].values.astype(int)\n",
        "\n",
        "# impute + scale once here so every model sees the same X\n",
        "X_raw = SimpleImputer(strategy=\"median\").fit_transform(X_raw)\n",
        "X_raw = StandardScaler().fit_transform(X_raw)\n",
        "\n",
        "tscv   = TimeSeriesSplit(n_splits=5)"
      ],
      "metadata": {
        "id": "QuNasxLq6lh3"
      },
      "execution_count": null,
      "outputs": []
    },
    {
      "cell_type": "code",
      "source": [
        "import numpy as np, pandas as pd, matplotlib.pyplot as plt, seaborn as sns\n",
        "from tqdm.auto import tqdm\n",
        "\n",
        "from sklearn.metrics      import (precision_recall_curve, roc_auc_score,\n",
        "                                   average_precision_score,\n",
        "                                   precision_recall_fscore_support)\n",
        "from sklearn.model_selection import GridSearchCV\n",
        "from sklearn.preprocessing   import StandardScaler\n",
        "from sklearn.impute          import SimpleImputer\n",
        "from sklearn.base            import clone\n",
        "from imblearn.pipeline       import Pipeline as IMB_Pipeline\n",
        "from imblearn.over_sampling  import SMOTE\n",
        "\n",
        "# Helpers\n",
        "def build_pipe(estimator):\n",
        "    \"\"\"Return a single imblearn pipeline: impute then scale then SMOTE then clf\"\"\"\n",
        "    return IMB_Pipeline([\n",
        "        (\"imputer\", SimpleImputer(strategy=\"median\")),\n",
        "        (\"scaler\" , StandardScaler()),\n",
        "        (\"smote\"  , SMOTE(random_state=42, sampling_strategy=0.20)),\n",
        "        (\"clf\"    , estimator)\n",
        "    ])\n",
        "\n",
        "# Scroll the Out-of-Fold Probability + label under TimeSeriesSplit.\n",
        "def oof_pred(grid_obj):\n",
        "    preds = np.zeros_like(y, dtype=float)\n",
        "    truth = np.zeros_like(y)\n",
        "    for tr, te in tscv.split(X_raw):\n",
        "        model = clone(grid_obj)\n",
        "        model.fit(X_raw[tr], y[tr])\n",
        "        preds[te] = model.predict_proba(X_raw[te])[:, 1]\n",
        "        truth[te] = y[te]\n",
        "    return preds, truth\n",
        "\n",
        "# Use to Return threshold that maximises F1 on the supplied grid.\n",
        "def best_thr(p, y_true, grid=np.linspace(0.05, 0.95, 19)):\n",
        "    best_t, best_f = 0.5, -1\n",
        "    for t in grid:\n",
        "        f = precision_recall_fscore_support(\n",
        "                y_true, (p >= t).astype(int),\n",
        "                average=\"binary\", zero_division=0\n",
        "            )[2]\n",
        "        if f > best_f:\n",
        "            best_t, best_f = t, f\n",
        "    return best_t, best_f"
      ],
      "metadata": {
        "id": "CV0WDC-jT55j"
      },
      "execution_count": null,
      "outputs": []
    },
    {
      "cell_type": "code",
      "source": [
        "# Models\n",
        "from sklearn.linear_model      import LogisticRegression\n",
        "from sklearn.ensemble          import (RandomForestClassifier,\n",
        "                                       ExtraTreesClassifier,\n",
        "                                       GradientBoostingClassifier,\n",
        "                                       HistGradientBoostingClassifier)\n",
        "from xgboost                   import XGBClassifier\n",
        "from lightgbm                  import LGBMClassifier\n",
        "\n",
        "MODELS = {\n",
        "    \"LogReg\"   : LogisticRegression(max_iter=400, class_weight=\"balanced\"),\n",
        "    \"RF\"       : RandomForestClassifier(n_estimators=400, class_weight=\"balanced\",\n",
        "                                       random_state=42),\n",
        "    \"ExtraTrees\": ExtraTreesClassifier(n_estimators=400, class_weight=\"balanced\",\n",
        "                                       random_state=42),\n",
        "    \"GBDT\"     : GradientBoostingClassifier(random_state=42),\n",
        "    \"XGBoost\"  : XGBClassifier(eval_metric=\"logloss\", learning_rate=0.05,\n",
        "                               subsample=0.8, colsample_bytree=0.8,\n",
        "                               max_depth=4, n_estimators=500,\n",
        "                               scale_pos_weight=(y==0).sum()/(y==1).sum(),\n",
        "                               random_state=42, n_jobs=-1),\n",
        "    \"LightGBM\" : LGBMClassifier(n_estimators=400, learning_rate=0.05,\n",
        "                                num_leaves=63, class_weight=\"balanced\",\n",
        "                                random_state=42),\n",
        "    \"HGB\"      : HistGradientBoostingClassifier(max_depth=None, learning_rate=0.07,\n",
        "                                                l2_regularization=0.,\n",
        "                                                class_weight={0:1, 1:3},\n",
        "                                                random_state=42)\n",
        "}\n",
        "\n",
        "# petite grids\n",
        "grids = {\n",
        "    \"LogReg\"   : {\"clf__C\":[0.1,1,10]},\n",
        "    \"RF\"       : {\"clf__max_depth\":[None,10]},\n",
        "    \"ExtraTrees\": {\"clf__max_depth\":[None,10]},\n",
        "    \"GBDT\"     : {\"clf__learning_rate\":[0.05,0.1]},\n",
        "    \"XGBoost\"  : {\"clf__max_depth\":[3,4]},\n",
        "    \"LightGBM\" : {\"clf__num_leaves\":[31,63]},\n",
        "    \"HGB\"      : {\"clf__max_depth\":[None,10]}\n",
        "}\n",
        "\n",
        "# Benchmark\n",
        "fold_scores  = []\n",
        "summary_rows = []\n",
        "tuned_models = {}\n",
        "\n",
        "print(\"Running 7‑model benchmark with tuning & fold metrics\")\n",
        "for name in tqdm(MODELS):\n",
        "\n",
        "    pipe = build_pipe(MODELS[name])\n",
        "    gcv  = GridSearchCV(pipe, grids[name],\n",
        "                        scoring=\"average_precision\",\n",
        "                        cv=3, n_jobs=-1, error_score=\"raise\")\n",
        "\n",
        "    # OOF evaluation\n",
        "    p_oof, y_oof = oof_pred(gcv)\n",
        "    thr, f1_best = best_thr(p_oof, y_oof)\n",
        "\n",
        "    P, R, _, _ = precision_recall_fscore_support(\n",
        "                    y_oof, (p_oof >= thr).astype(int),\n",
        "                    average=\"binary\", zero_division=0)\n",
        "    roc   = roc_auc_score(y_oof, p_oof)\n",
        "    prauc = average_precision_score(y_oof, p_oof)\n",
        "    brier = ((p_oof - y_oof) ** 2).mean()\n",
        "\n",
        "    summary_rows.append([name, thr, P, R, f1_best, roc, prauc, brier])\n",
        "\n",
        "    # fold‑level F1 distribution\n",
        "    for k, (_, te) in enumerate(tscv.split(X_raw)):\n",
        "        f1_fold = precision_recall_fscore_support(\n",
        "                      y[te], (p_oof[te] >= thr).astype(int),\n",
        "                      average=\"binary\", zero_division=0)[2]\n",
        "        fold_scores.append([name, k, f1_fold])\n",
        "\n",
        "    # fit tuned model on full data for later plots\n",
        "    gcv.fit(X_raw, y)\n",
        "    tuned_models[name] = (gcv.best_estimator_, thr)\n",
        "\n",
        "# Reporting\n",
        "df_sum  = pd.DataFrame(summary_rows, columns=\n",
        "        [\"model\",\"best_thr\",\"precision\",\"recall\",\"best_F1\",\n",
        "         \"roc_auc\",\"pr_auc\",\"brier\"])\n",
        "df_fold = pd.DataFrame(fold_scores, columns=[\"model\",\"fold\",\"F1\"])\n",
        "\n",
        "print(\"\\n=== 7‑model comparison (tuned OOF) ===\")\n",
        "print(df_sum.sort_values(\"best_F1\", ascending=False).to_string(index=False))\n",
        "\n",
        "# Visuals\n",
        "sns.boxplot(data=df_fold, x=\"model\", y=\"F1\")\n",
        "plt.title(\"Fold‑level F1 dispersion (OOF, best‑thr)\")\n",
        "plt.tight_layout(); plt.show()\n",
        "\n",
        "# Precision–Recall overlay\n",
        "pal = sns.color_palette(\"tab10\", n_colors=len(MODELS))\n",
        "plt.figure(figsize=(4.5,3.5))\n",
        "for c,(name, (model, thr)) in zip(pal, tuned_models.items()):\n",
        "    pr, rc, _ = precision_recall_curve(y, model.predict_proba(X_raw)[:,1])\n",
        "    plt.plot(rc, pr, label=name, c=c)\n",
        "plt.title(\"Precision–Recall curves (OOF)\"); plt.xlabel(\"Recall\"); plt.ylabel(\"Precision\")\n",
        "plt.legend(); plt.tight_layout(); plt.show()\n",
        "\n",
        "# ROC overlay\n",
        "plt.figure(figsize=(4.5,3.5))\n",
        "for c,(name,(model,thr)) in zip(pal, tuned_models.items()):\n",
        "    RocCurveDisplay.from_predictions(\n",
        "        y, model.predict_proba(X_raw)[:,1],\n",
        "        name=name, color=c, ax=plt.gca(), plot_chance_level=False)\n",
        "plt.title(\"ROC curves (OOF)\"); plt.tight_layout(); plt.show()\n",
        "\n",
        "# 8.I add 95 % CI for best‑thr F1\n",
        "import scipy.stats as st\n",
        "\n",
        "f1_folds = df_fold.groupby(\"model\")[\"F1\"]\n",
        "\n",
        "df_sum[\"F1_CI95\"] = (\n",
        "    f1_folds\n",
        "      .apply(lambda s: st.t.interval(0.95,\n",
        "                       df=len(s)-1,\n",
        "                       loc=s.mean(),\n",
        "                       scale=st.sem(s)))\n",
        "      .astype(str)\n",
        "      .values\n",
        ")\n",
        "\n",
        "print(\"\\n Model comparison + 95% CI on F1\")\n",
        "print(df_sum.sort_values(\"best_F1\", ascending=False).to_string(index=False))\n",
        "\n",
        "# 9- persist overall best pipeline\n",
        "import joblib, os\n",
        "\n",
        "best_name = df_sum.sort_values(\"best_F1\", ascending=False)[\"model\"].iloc[0]\n",
        "best_pipe, best_thr = tuned_models[best_name]\n",
        "\n",
        "out_path = f\"/content/drive/MyDrive/silo_agg/output/best_{best_name}.joblib\"\n",
        "os.makedirs(os.path.dirname(out_path), exist_ok=True)\n",
        "joblib.dump(best_pipe, out_path)\n",
        "\n",
        "print(f\"\\n Saved tuned {best_name} pipeline: {out_path}\")\n",
        "print(f\"Best threshold(OOF) = {best_thr:.2f}\")\n"
      ],
      "metadata": {
        "colab": {
          "base_uri": "https://localhost:8080/",
          "height": 1000,
          "referenced_widgets": [
            "bf53700bb2f0449ba71ac019e4fbe0d9",
            "3363c88f0d654c18a69e2c11965b20c9",
            "4cb178c7dec9449c83aa5d2f9c54348b",
            "02f68c73caf84f469737803ada8d3767",
            "bae89192688d417a93a9e9691f806355",
            "4ca28d39a1d64e76b84d2c04ae82da19",
            "d649e63ce3f6458596c733599b517618",
            "d33bcb20089b44a7bd1bebc960ac9f1f",
            "19c7a615b5c8481288b7c14a12fbc804",
            "8d9bb2cc90b64f90a36feb7a08da496c",
            "3f30946b63a343b6bef8b8e00d80279e"
          ]
        },
        "id": "4iyt_2yA8Xa7",
        "outputId": "a9292e2d-9498-46ee-e9d3-96bcef579150"
      },
      "execution_count": null,
      "outputs": [
        {
          "output_type": "stream",
          "name": "stdout",
          "text": [
            "Running 7‑model benchmark with tuning & fold metrics\n"
          ]
        },
        {
          "output_type": "display_data",
          "data": {
            "text/plain": [
              "  0%|          | 0/7 [00:00<?, ?it/s]"
            ],
            "application/vnd.jupyter.widget-view+json": {
              "version_major": 2,
              "version_minor": 0,
              "model_id": "bf53700bb2f0449ba71ac019e4fbe0d9"
            }
          },
          "metadata": {}
        },
        {
          "output_type": "stream",
          "name": "stdout",
          "text": [
            "[LightGBM] [Info] Number of positive: 646, number of negative: 3232\n",
            "[LightGBM] [Info] Auto-choosing col-wise multi-threading, the overhead of testing was 0.000205 seconds.\n",
            "You can set `force_col_wise=true` to remove the overhead.\n",
            "[LightGBM] [Info] Total Bins 2295\n",
            "[LightGBM] [Info] Number of data points in the train set: 3878, number of used features: 9\n",
            "[LightGBM] [Info] [binary:BoostFromScore]: pavg=0.500000 -> initscore=0.000000\n",
            "[LightGBM] [Info] Start training from score 0.000000\n",
            "[LightGBM] [Info] Number of positive: 1285, number of negative: 6429\n",
            "[LightGBM] [Info] Auto-choosing col-wise multi-threading, the overhead of testing was 0.000265 seconds.\n",
            "You can set `force_col_wise=true` to remove the overhead.\n",
            "[LightGBM] [Info] Total Bins 2295\n",
            "[LightGBM] [Info] Number of data points in the train set: 7714, number of used features: 9\n",
            "[LightGBM] [Info] [binary:BoostFromScore]: pavg=0.500000 -> initscore=-0.000000\n",
            "[LightGBM] [Info] Start training from score -0.000000\n",
            "[LightGBM] [Info] Number of positive: 1914, number of negative: 9573\n",
            "[LightGBM] [Info] Auto-choosing row-wise multi-threading, the overhead of testing was 0.000355 seconds.\n",
            "You can set `force_row_wise=true` to remove the overhead.\n",
            "And if memory is not enough, you can set `force_col_wise=true`.\n",
            "[LightGBM] [Info] Total Bins 2295\n",
            "[LightGBM] [Info] Number of data points in the train set: 11487, number of used features: 9\n",
            "[LightGBM] [Info] [binary:BoostFromScore]: pavg=0.500000 -> initscore=-0.000000\n",
            "[LightGBM] [Info] Start training from score -0.000000\n",
            "[LightGBM] [Info] Number of positive: 2556, number of negative: 12780\n",
            "[LightGBM] [Info] Auto-choosing col-wise multi-threading, the overhead of testing was 0.000609 seconds.\n",
            "You can set `force_col_wise=true` to remove the overhead.\n",
            "[LightGBM] [Info] Total Bins 2295\n",
            "[LightGBM] [Info] Number of data points in the train set: 15336, number of used features: 9\n",
            "[LightGBM] [Info] [binary:BoostFromScore]: pavg=0.500000 -> initscore=-0.000000\n",
            "[LightGBM] [Info] Start training from score -0.000000\n",
            "[LightGBM] [Info] Number of positive: 3194, number of negative: 15972\n",
            "[LightGBM] [Info] Auto-choosing col-wise multi-threading, the overhead of testing was 0.000742 seconds.\n",
            "You can set `force_col_wise=true` to remove the overhead.\n",
            "[LightGBM] [Info] Total Bins 2295\n",
            "[LightGBM] [Info] Number of data points in the train set: 19166, number of used features: 9\n",
            "[LightGBM] [Info] [binary:BoostFromScore]: pavg=0.500000 -> initscore=-0.000000\n",
            "[LightGBM] [Info] Start training from score -0.000000\n",
            "[LightGBM] [Info] Number of positive: 3838, number of negative: 19190\n",
            "[LightGBM] [Info] Auto-choosing col-wise multi-threading, the overhead of testing was 0.000776 seconds.\n",
            "You can set `force_col_wise=true` to remove the overhead.\n",
            "[LightGBM] [Info] Total Bins 2295\n",
            "[LightGBM] [Info] Number of data points in the train set: 23028, number of used features: 9\n",
            "[LightGBM] [Info] [binary:BoostFromScore]: pavg=0.500000 -> initscore=-0.000000\n",
            "[LightGBM] [Info] Start training from score -0.000000\n",
            "\n",
            "=== 7‑model comparison (tuned OOF) ===\n",
            "     model  best_thr  precision   recall  best_F1  roc_auc   pr_auc    brier\n",
            "      GBDT      0.60   0.108303 0.101010 0.104530 0.781029 0.058185 0.035786\n",
            "       HGB      0.65   0.072197 0.158249 0.099156 0.775023 0.049751 0.046889\n",
            "        RF      0.75   0.074856 0.131313 0.095355 0.772348 0.050081 0.074559\n",
            "  LightGBM      0.45   0.057692 0.171717 0.086367 0.738872 0.044122 0.039040\n",
            "   XGBoost      0.95   0.048907 0.158249 0.074722 0.741445 0.047445 0.138165\n",
            "    LogReg      0.65   0.039065 0.427609 0.071590 0.748937 0.038428 0.195068\n",
            "ExtraTrees      0.40   0.029373 0.299663 0.053502 0.693216 0.027112 0.075008\n"
          ]
        },
        {
          "output_type": "display_data",
          "data": {
            "text/plain": [
              "<Figure size 640x480 with 1 Axes>"
            ],
            "image/png": "[encoded data removed]"
          },
          "metadata": {}
        },
        {
          "output_type": "display_data",
          "data": {
            "text/plain": [
              "<Figure size 450x350 with 1 Axes>"
            ],
            "image/png": "[encoded data removed]"
          },
          "metadata": {}
        },
        {
          "output_type": "display_data",
          "data": {
            "text/plain": [
              "<Figure size 450x350 with 1 Axes>"
            ],
            "image/png": "[encoded data removed]"
          },
          "metadata": {}
        },
        {
          "output_type": "stream",
          "name": "stdout",
          "text": [
            "\n",
            " Model comparison + 95% CI on F1\n",
            "     model  best_thr  precision   recall  best_F1  roc_auc   pr_auc    brier                                                              F1_CI95\n",
            "      GBDT      0.60   0.108303 0.101010 0.104530 0.781029 0.058185 0.035786  (np.float64(-0.006969498007385527), np.float64(0.1611761585272237))\n",
            "       HGB      0.65   0.072197 0.158249 0.099156 0.775023 0.049751 0.046889 (np.float64(-0.005625014486137059), np.float64(0.15258570538421956))\n",
            "        RF      0.75   0.074856 0.131313 0.095355 0.772348 0.050081 0.074559 (np.float64(-0.027443420623689874), np.float64(0.16123988843550296))\n",
            "  LightGBM      0.45   0.057692 0.171717 0.086367 0.738872 0.044122 0.039040  (np.float64(-0.03544847110952602), np.float64(0.17314723653829528))\n",
            "   XGBoost      0.95   0.048907 0.158249 0.074722 0.741445 0.047445 0.138165   (np.float64(0.02235037867381951), np.float64(0.11850850307701458))\n",
            "    LogReg      0.65   0.039065 0.427609 0.071590 0.748937 0.038428 0.195068  (np.float64(0.005999112081136897), np.float64(0.11593811396582754))\n",
            "ExtraTrees      0.40   0.029373 0.299663 0.053502 0.693216 0.027112 0.075008 (np.float64(-0.017955410251522877), np.float64(0.17708887921492467))\n",
            "\n",
            " Saved tuned GBDT pipeline: /content/drive/MyDrive/silo_agg/output/best_GBDT.joblib\n",
            "Best threshold(OOF) = 0.60\n"
          ]
        }
      ]
    },
    {
      "cell_type": "code",
      "source": [
        "import pandas as pd, numpy as np, statsmodels.api as sm\n",
        "from sklearn.preprocessing import StandardScaler\n",
        "import matplotlib.pyplot as plt\n",
        "\n",
        "# Read data & year column\n",
        "df = pd.read_parquet(\n",
        "    \"/content/drive/MyDrive/silo_agg/output/panel_features_SA.parquet\"\n",
        ").copy()\n",
        "df['year'] = df['date'].dt.year\n",
        "\n",
        "num_cols = ['mean_temp','wind_speed','rel_humidity',\n",
        "            'VPD','DTR','API','ndvi']\n",
        "\n",
        "# Handling Numerical Features\n",
        "X_num = df[num_cols].astype(float)\n",
        "\n",
        "# a-First fill in the gaps with the column median\n",
        "X_num = X_num.fillna(X_num.median())\n",
        "\n",
        "# b) Standardization; if the column is constant, just set it to 0, which is equivalent to throwing it away in my training\n",
        "scaler = StandardScaler()\n",
        "X_num_z = pd.DataFrame(\n",
        "    scaler.fit_transform(X_num),\n",
        "    columns=num_cols, index=df.index\n",
        ").replace([np.inf, -np.inf], 0.0)\n",
        "\n",
        "# one‑hot year\n",
        "X_year = pd.get_dummies(df['year'], prefix='yr').astype(float)\n",
        "\n",
        "# Stitching & Final Inspection\n",
        "X = pd.concat([X_num_z, X_year], axis=1)\n",
        "X = sm.add_constant(X).astype(float)\n",
        "\n",
        "X = X.fillna(0.0)\n",
        "assert np.isfinite(X.values).all(), \"Still has NaN/Inf!\"\n",
        "\n",
        "y = df['target_next_day'].astype(float)\n",
        "\n",
        "# Ridge‑GLM\n",
        "alpha = 0.1\n",
        "n_num = len(num_cols)\n",
        "\n",
        "pen = np.r_[ [0],\n",
        "             np.ones(n_num),\n",
        "             np.zeros(X_year.shape[1]) ]\n",
        "\n",
        "glm = sm.GLM(y, X, family=sm.families.Binomial())\n",
        "res = glm.fit_regularized(alpha=alpha, L1_wt=0,\n",
        "                          pen_weights=pen, maxiter=500, disp=False)\n",
        "\n",
        "# Extraction& Mapping\n",
        "coef_year = res.params.filter(like='yr_')\n",
        "base      = res.params['const']\n",
        "p_year    = 1/(1+np.exp(-(base + coef_year)))\n",
        "p_year.index = coef_year.index.str[-4:].astype(int)\n",
        "p_year = p_year.sort_index()\n",
        "\n",
        "raw = df.groupby('year')['target_next_day'].mean()\n",
        "\n",
        "plt.figure(figsize=(6,3))\n",
        "plt.plot(raw.index, raw, 's-', label='Raw')\n",
        "plt.plot(p_year.index, p_year, 'o-', label='Adjusted')\n",
        "plt.ylabel('P( ≥ 10 hotspots )'); plt.xlabel('Year')\n",
        "plt.title('South Australia ‑ Ignition‑risk trend (2014‑2024)')\n",
        "plt.legend(); plt.grid(alpha=.3); plt.tight_layout(); plt.show()\n",
        "\n",
        "trend_tbl = pd.DataFrame({'Raw': raw, 'Adjusted': p_year}).round(4)\n",
        "print(trend_tbl.to_markdown())\n"
      ],
      "metadata": {
        "colab": {
          "base_uri": "https://localhost:8080/",
          "height": 541
        },
        "id": "Hg7qk3cBF3De",
        "outputId": "898392fb-9bd0-424e-9525-01cb7c2b431e"
      },
      "execution_count": null,
      "outputs": [
        {
          "output_type": "display_data",
          "data": {
            "text/plain": [
              "<Figure size 600x300 with 1 Axes>"
            ],
            "image/png": "[encoded data removed]"
          },
          "metadata": {}
        },
        {
          "output_type": "stream",
          "name": "stdout",
          "text": [
            "|      |    Raw |   Adjusted |\n",
            "|-----:|-------:|-----------:|\n",
            "| 2014 | 0.0406 |     0.1676 |\n",
            "| 2015 | 0.0237 |     0.1657 |\n",
            "| 2016 | 0      |     0.1631 |\n",
            "| 2017 | 0.0113 |     0.1644 |\n",
            "| 2018 | 0.0034 |     0.1634 |\n",
            "| 2019 | 0.0023 |     0.1633 |\n",
            "| 2020 | 0.0045 |     0.1636 |\n",
            "| 2021 | 0.0226 |     0.1656 |\n",
            "| 2022 | 0.0214 |     0.1656 |\n",
            "| 2023 | 0.0096 |     0.1642 |\n",
            "| 2024 | 0.0401 |     0.1675 |\n"
          ]
        }
      ]
    }
  ]
}